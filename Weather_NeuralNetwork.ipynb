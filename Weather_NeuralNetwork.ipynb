{
  "cells": [
    {
      "cell_type": "markdown",
      "metadata": {
        "id": "view-in-github",
        "colab_type": "text"
      },
      "source": [
        "<a href=\"https://colab.research.google.com/github/JLBros10/AI-Science-Fair/blob/main/Weather_NeuralNetwork.ipynb\" target=\"_parent\"><img src=\"https://colab.research.google.com/assets/colab-badge.svg\" alt=\"Open In Colab\"/></a>"
      ]
    },
    {
      "cell_type": "markdown",
      "metadata": {
        "id": "68mdAAE6e061"
      },
      "source": []
    },
    {
      "cell_type": "markdown",
      "metadata": {
        "id": "view-in-github"
      },
      "source": [
        "<a href=\"https://colab.research.google.com/github/flatplanet/Pytorch-Tutorial-Youtube/blob/main/simple_NeuralNetwork.ipynb\" target=\"_parent\"><img src=\"https://colab.research.google.com/assets/colab-badge.svg\" alt=\"Open In Colab\"/></a>"
      ]
    },
    {
      "cell_type": "code",
      "execution_count": null,
      "metadata": {
        "colab": {
          "background_save": true
        },
        "id": "vGOD8SzOPQAk"
      },
      "outputs": [],
      "source": [
        "import torch\n",
        "import torch.nn as nn\n",
        "import torch.nn.functional as F\n"
      ]
    },
    {
      "cell_type": "code",
      "execution_count": null,
      "metadata": {
        "colab": {
          "background_save": true
        },
        "id": "mnDj8FLiRSxO"
      },
      "outputs": [],
      "source": [
        "class Model(nn.Module):\n",
        "  def __init__(self, in_features=8, h1=20, h2=10, out_features=9):\n",
        "    super().__init__()\n",
        "    self.fc1 = nn.Linear(in_features, h1)\n",
        "    self.fc2 = nn.Linear(h1, h2)\n",
        "    self.out = nn.Linear(h2, out_features)\n",
        "\n",
        "  def forward(self, x):\n",
        "    x = F.relu(self.fc1(x))\n",
        "    x = F.relu(self.fc2(x))\n",
        "    x = self.out(x)\n",
        "\n",
        "    return x\n"
      ]
    },
    {
      "cell_type": "code",
      "execution_count": null,
      "metadata": {
        "colab": {
          "background_save": true
        },
        "id": "3O7rymtcT-bD"
      },
      "outputs": [],
      "source": [
        "torch.manual_seed(41)\n",
        "model = Model()"
      ]
    },
    {
      "cell_type": "code",
      "execution_count": null,
      "metadata": {
        "colab": {
          "background_save": true
        },
        "id": "11Q8PWnaUVYj"
      },
      "outputs": [],
      "source": [
        "import pandas as pd\n",
        "import matplotlib.pyplot as plt\n",
        "%matplotlib inline"
      ]
    },
    {
      "cell_type": "code",
      "execution_count": null,
      "metadata": {
        "colab": {
          "background_save": true
        },
        "id": "3WzV4PfT2xhF",
        "outputId": "2f73a56d-87d1-4c4f-e105-8f0837c57a87"
      },
      "outputs": [
        {
          "name": "stdout",
          "output_type": "stream",
          "text": [
            "Drive already mounted at /content/drive; to attempt to forcibly remount, call drive.mount(\"/content/drive\", force_remount=True).\n"
          ]
        }
      ],
      "source": [
        "from google.colab import drive\n",
        "drive.mount('/content/drive')\n",
        "my_df = pd.read_csv(\"/content/drive/MyDrive/SF/Datasets for Train n' Test/weather_prediction_dataset.csv\")"
      ]
    },
    {
      "cell_type": "code",
      "execution_count": null,
      "metadata": {
        "colab": {
          "background_save": true
        },
        "id": "r9iQSTSP3X2F",
        "outputId": "c71b7a35-7b6c-4040-f6c7-1e4d60d19619"
      },
      "outputs": [
        {
          "data": {
            "application/vnd.google.colaboratory.intrinsic+json": {
              "summary": "{\n  \"name\": \"my_df\",\n  \"rows\": 5,\n  \"fields\": [\n    {\n      \"column\": \"BASEL_cloud_cover\",\n      \"properties\": {\n        \"dtype\": \"number\",\n        \"std\": 0,\n        \"min\": 7,\n        \"max\": 8,\n        \"num_unique_values\": 2,\n        \"samples\": [\n          8,\n          7\n        ],\n        \"semantic_type\": \"\",\n        \"description\": \"\"\n      }\n    },\n    {\n      \"column\": \"BASEL_humidity\",\n      \"properties\": {\n        \"dtype\": \"number\",\n        \"std\": 0.04722287581247042,\n        \"min\": 0.82,\n        \"max\": 0.93,\n        \"num_unique_values\": 3,\n        \"samples\": [\n          0.82,\n          0.92\n        ],\n        \"semantic_type\": \"\",\n        \"description\": \"\"\n      }\n    },\n    {\n      \"column\": \"BASEL_pressure\",\n      \"properties\": {\n        \"dtype\": \"number\",\n        \"std\": 0.005298773442977119,\n        \"min\": 0.9958,\n        \"max\": 1.0084,\n        \"num_unique_values\": 5,\n        \"samples\": [\n          1.0028,\n          0.9965\n        ],\n        \"semantic_type\": \"\",\n        \"description\": \"\"\n      }\n    },\n    {\n      \"column\": \"BASEL_global_radiation\",\n      \"properties\": {\n        \"dtype\": \"number\",\n        \"std\": 0.0901665126307988,\n        \"min\": 0.07,\n        \"max\": 0.28,\n        \"num_unique_values\": 5,\n        \"samples\": [\n          0.22,\n          0.08\n        ],\n        \"semantic_type\": \"\",\n        \"description\": \"\"\n      }\n    },\n    {\n      \"column\": \"BASEL_precipitation\",\n      \"properties\": {\n        \"dtype\": \"number\",\n        \"std\": 0.6038046041560133,\n        \"min\": 0.42,\n        \"max\": 1.68,\n        \"num_unique_values\": 5,\n        \"samples\": [\n          1.68,\n          0.56\n        ],\n        \"semantic_type\": \"\",\n        \"description\": \"\"\n      }\n    },\n    {\n      \"column\": \"BASEL_sunshine\",\n      \"properties\": {\n        \"dtype\": \"number\",\n        \"std\": 0.13038404810405296,\n        \"min\": 0.0,\n        \"max\": 0.3,\n        \"num_unique_values\": 4,\n        \"samples\": [\n          0.2,\n          0.1\n        ],\n        \"semantic_type\": \"\",\n        \"description\": \"\"\n      }\n    },\n    {\n      \"column\": \"BASEL_temp_mean\",\n      \"properties\": {\n        \"dtype\": \"number\",\n        \"std\": 2.3776038357977134,\n        \"min\": 2.9,\n        \"max\": 8.5,\n        \"num_unique_values\": 5,\n        \"samples\": [\n          4.5,\n          2.9\n        ],\n        \"semantic_type\": \"\",\n        \"description\": \"\"\n      }\n    },\n    {\n      \"column\": \"BASEL_temp_min\",\n      \"properties\": {\n        \"dtype\": \"number\",\n        \"std\": 3.0224162519414826,\n        \"min\": -0.2,\n        \"max\": 7.5,\n        \"num_unique_values\": 5,\n        \"samples\": [\n          2.4,\n          -0.2\n        ],\n        \"semantic_type\": \"\",\n        \"description\": \"\"\n      }\n    },\n    {\n      \"column\": \"BASEL_temp_max\",\n      \"properties\": {\n        \"dtype\": \"number\",\n        \"std\": 3.022416251941483,\n        \"min\": 4.8,\n        \"max\": 11.5,\n        \"num_unique_values\": 4,\n        \"samples\": [\n          10.0,\n          7.9\n        ],\n        \"semantic_type\": \"\",\n        \"description\": \"\"\n      }\n    }\n  ]\n}",
              "type": "dataframe"
            },
            "text/html": [
              "\n",
              "  <div id=\"df-7775003e-5eef-4c56-8008-a8d7b951be0a\" class=\"colab-df-container\">\n",
              "    <div>\n",
              "<style scoped>\n",
              "    .dataframe tbody tr th:only-of-type {\n",
              "        vertical-align: middle;\n",
              "    }\n",
              "\n",
              "    .dataframe tbody tr th {\n",
              "        vertical-align: top;\n",
              "    }\n",
              "\n",
              "    .dataframe thead th {\n",
              "        text-align: right;\n",
              "    }\n",
              "</style>\n",
              "<table border=\"1\" class=\"dataframe\">\n",
              "  <thead>\n",
              "    <tr style=\"text-align: right;\">\n",
              "      <th></th>\n",
              "      <th>BASEL_cloud_cover</th>\n",
              "      <th>BASEL_humidity</th>\n",
              "      <th>BASEL_pressure</th>\n",
              "      <th>BASEL_global_radiation</th>\n",
              "      <th>BASEL_precipitation</th>\n",
              "      <th>BASEL_sunshine</th>\n",
              "      <th>BASEL_temp_mean</th>\n",
              "      <th>BASEL_temp_min</th>\n",
              "      <th>BASEL_temp_max</th>\n",
              "    </tr>\n",
              "  </thead>\n",
              "  <tbody>\n",
              "    <tr>\n",
              "      <th>3649</th>\n",
              "      <td>7</td>\n",
              "      <td>0.82</td>\n",
              "      <td>1.0084</td>\n",
              "      <td>0.28</td>\n",
              "      <td>0.42</td>\n",
              "      <td>0.3</td>\n",
              "      <td>3.2</td>\n",
              "      <td>1.0</td>\n",
              "      <td>4.8</td>\n",
              "    </tr>\n",
              "    <tr>\n",
              "      <th>3650</th>\n",
              "      <td>7</td>\n",
              "      <td>0.92</td>\n",
              "      <td>1.0028</td>\n",
              "      <td>0.22</td>\n",
              "      <td>1.68</td>\n",
              "      <td>0.2</td>\n",
              "      <td>4.5</td>\n",
              "      <td>2.4</td>\n",
              "      <td>10.0</td>\n",
              "    </tr>\n",
              "    <tr>\n",
              "      <th>3651</th>\n",
              "      <td>8</td>\n",
              "      <td>0.92</td>\n",
              "      <td>0.9979</td>\n",
              "      <td>0.07</td>\n",
              "      <td>1.54</td>\n",
              "      <td>0.0</td>\n",
              "      <td>8.5</td>\n",
              "      <td>7.5</td>\n",
              "      <td>11.5</td>\n",
              "    </tr>\n",
              "    <tr>\n",
              "      <th>3652</th>\n",
              "      <td>7</td>\n",
              "      <td>0.93</td>\n",
              "      <td>0.9958</td>\n",
              "      <td>0.17</td>\n",
              "      <td>0.57</td>\n",
              "      <td>0.1</td>\n",
              "      <td>6.6</td>\n",
              "      <td>4.3</td>\n",
              "      <td>7.9</td>\n",
              "    </tr>\n",
              "    <tr>\n",
              "      <th>3653</th>\n",
              "      <td>8</td>\n",
              "      <td>0.93</td>\n",
              "      <td>0.9965</td>\n",
              "      <td>0.08</td>\n",
              "      <td>0.56</td>\n",
              "      <td>0.0</td>\n",
              "      <td>2.9</td>\n",
              "      <td>-0.2</td>\n",
              "      <td>4.8</td>\n",
              "    </tr>\n",
              "  </tbody>\n",
              "</table>\n",
              "</div>\n",
              "    <div class=\"colab-df-buttons\">\n",
              "\n",
              "  <div class=\"colab-df-container\">\n",
              "    <button class=\"colab-df-convert\" onclick=\"convertToInteractive('df-7775003e-5eef-4c56-8008-a8d7b951be0a')\"\n",
              "            title=\"Convert this dataframe to an interactive table.\"\n",
              "            style=\"display:none;\">\n",
              "\n",
              "  <svg xmlns=\"http://www.w3.org/2000/svg\" height=\"24px\" viewBox=\"0 -960 960 960\">\n",
              "    <path d=\"M120-120v-720h720v720H120Zm60-500h600v-160H180v160Zm220 220h160v-160H400v160Zm0 220h160v-160H400v160ZM180-400h160v-160H180v160Zm440 0h160v-160H620v160ZM180-180h160v-160H180v160Zm440 0h160v-160H620v160Z\"/>\n",
              "  </svg>\n",
              "    </button>\n",
              "\n",
              "  <style>\n",
              "    .colab-df-container {\n",
              "      display:flex;\n",
              "      gap: 12px;\n",
              "    }\n",
              "\n",
              "    .colab-df-convert {\n",
              "      background-color: #E8F0FE;\n",
              "      border: none;\n",
              "      border-radius: 50%;\n",
              "      cursor: pointer;\n",
              "      display: none;\n",
              "      fill: #1967D2;\n",
              "      height: 32px;\n",
              "      padding: 0 0 0 0;\n",
              "      width: 32px;\n",
              "    }\n",
              "\n",
              "    .colab-df-convert:hover {\n",
              "      background-color: #E2EBFA;\n",
              "      box-shadow: 0px 1px 2px rgba(60, 64, 67, 0.3), 0px 1px 3px 1px rgba(60, 64, 67, 0.15);\n",
              "      fill: #174EA6;\n",
              "    }\n",
              "\n",
              "    .colab-df-buttons div {\n",
              "      margin-bottom: 4px;\n",
              "    }\n",
              "\n",
              "    [theme=dark] .colab-df-convert {\n",
              "      background-color: #3B4455;\n",
              "      fill: #D2E3FC;\n",
              "    }\n",
              "\n",
              "    [theme=dark] .colab-df-convert:hover {\n",
              "      background-color: #434B5C;\n",
              "      box-shadow: 0px 1px 3px 1px rgba(0, 0, 0, 0.15);\n",
              "      filter: drop-shadow(0px 1px 2px rgba(0, 0, 0, 0.3));\n",
              "      fill: #FFFFFF;\n",
              "    }\n",
              "  </style>\n",
              "\n",
              "    <script>\n",
              "      const buttonEl =\n",
              "        document.querySelector('#df-7775003e-5eef-4c56-8008-a8d7b951be0a button.colab-df-convert');\n",
              "      buttonEl.style.display =\n",
              "        google.colab.kernel.accessAllowed ? 'block' : 'none';\n",
              "\n",
              "      async function convertToInteractive(key) {\n",
              "        const element = document.querySelector('#df-7775003e-5eef-4c56-8008-a8d7b951be0a');\n",
              "        const dataTable =\n",
              "          await google.colab.kernel.invokeFunction('convertToInteractive',\n",
              "                                                    [key], {});\n",
              "        if (!dataTable) return;\n",
              "\n",
              "        const docLinkHtml = 'Like what you see? Visit the ' +\n",
              "          '<a target=\"_blank\" href=https://colab.research.google.com/notebooks/data_table.ipynb>data table notebook</a>'\n",
              "          + ' to learn more about interactive tables.';\n",
              "        element.innerHTML = '';\n",
              "        dataTable['output_type'] = 'display_data';\n",
              "        await google.colab.output.renderOutput(dataTable, element);\n",
              "        const docLink = document.createElement('div');\n",
              "        docLink.innerHTML = docLinkHtml;\n",
              "        element.appendChild(docLink);\n",
              "      }\n",
              "    </script>\n",
              "  </div>\n",
              "\n",
              "\n",
              "<div id=\"df-62a7a10f-7ac2-4345-bad3-0baa0f3d775a\">\n",
              "  <button class=\"colab-df-quickchart\" onclick=\"quickchart('df-62a7a10f-7ac2-4345-bad3-0baa0f3d775a')\"\n",
              "            title=\"Suggest charts\"\n",
              "            style=\"display:none;\">\n",
              "\n",
              "<svg xmlns=\"http://www.w3.org/2000/svg\" height=\"24px\"viewBox=\"0 0 24 24\"\n",
              "     width=\"24px\">\n",
              "    <g>\n",
              "        <path d=\"M19 3H5c-1.1 0-2 .9-2 2v14c0 1.1.9 2 2 2h14c1.1 0 2-.9 2-2V5c0-1.1-.9-2-2-2zM9 17H7v-7h2v7zm4 0h-2V7h2v10zm4 0h-2v-4h2v4z\"/>\n",
              "    </g>\n",
              "</svg>\n",
              "  </button>\n",
              "\n",
              "<style>\n",
              "  .colab-df-quickchart {\n",
              "      --bg-color: #E8F0FE;\n",
              "      --fill-color: #1967D2;\n",
              "      --hover-bg-color: #E2EBFA;\n",
              "      --hover-fill-color: #174EA6;\n",
              "      --disabled-fill-color: #AAA;\n",
              "      --disabled-bg-color: #DDD;\n",
              "  }\n",
              "\n",
              "  [theme=dark] .colab-df-quickchart {\n",
              "      --bg-color: #3B4455;\n",
              "      --fill-color: #D2E3FC;\n",
              "      --hover-bg-color: #434B5C;\n",
              "      --hover-fill-color: #FFFFFF;\n",
              "      --disabled-bg-color: #3B4455;\n",
              "      --disabled-fill-color: #666;\n",
              "  }\n",
              "\n",
              "  .colab-df-quickchart {\n",
              "    background-color: var(--bg-color);\n",
              "    border: none;\n",
              "    border-radius: 50%;\n",
              "    cursor: pointer;\n",
              "    display: none;\n",
              "    fill: var(--fill-color);\n",
              "    height: 32px;\n",
              "    padding: 0;\n",
              "    width: 32px;\n",
              "  }\n",
              "\n",
              "  .colab-df-quickchart:hover {\n",
              "    background-color: var(--hover-bg-color);\n",
              "    box-shadow: 0 1px 2px rgba(60, 64, 67, 0.3), 0 1px 3px 1px rgba(60, 64, 67, 0.15);\n",
              "    fill: var(--button-hover-fill-color);\n",
              "  }\n",
              "\n",
              "  .colab-df-quickchart-complete:disabled,\n",
              "  .colab-df-quickchart-complete:disabled:hover {\n",
              "    background-color: var(--disabled-bg-color);\n",
              "    fill: var(--disabled-fill-color);\n",
              "    box-shadow: none;\n",
              "  }\n",
              "\n",
              "  .colab-df-spinner {\n",
              "    border: 2px solid var(--fill-color);\n",
              "    border-color: transparent;\n",
              "    border-bottom-color: var(--fill-color);\n",
              "    animation:\n",
              "      spin 1s steps(1) infinite;\n",
              "  }\n",
              "\n",
              "  @keyframes spin {\n",
              "    0% {\n",
              "      border-color: transparent;\n",
              "      border-bottom-color: var(--fill-color);\n",
              "      border-left-color: var(--fill-color);\n",
              "    }\n",
              "    20% {\n",
              "      border-color: transparent;\n",
              "      border-left-color: var(--fill-color);\n",
              "      border-top-color: var(--fill-color);\n",
              "    }\n",
              "    30% {\n",
              "      border-color: transparent;\n",
              "      border-left-color: var(--fill-color);\n",
              "      border-top-color: var(--fill-color);\n",
              "      border-right-color: var(--fill-color);\n",
              "    }\n",
              "    40% {\n",
              "      border-color: transparent;\n",
              "      border-right-color: var(--fill-color);\n",
              "      border-top-color: var(--fill-color);\n",
              "    }\n",
              "    60% {\n",
              "      border-color: transparent;\n",
              "      border-right-color: var(--fill-color);\n",
              "    }\n",
              "    80% {\n",
              "      border-color: transparent;\n",
              "      border-right-color: var(--fill-color);\n",
              "      border-bottom-color: var(--fill-color);\n",
              "    }\n",
              "    90% {\n",
              "      border-color: transparent;\n",
              "      border-bottom-color: var(--fill-color);\n",
              "    }\n",
              "  }\n",
              "</style>\n",
              "\n",
              "  <script>\n",
              "    async function quickchart(key) {\n",
              "      const quickchartButtonEl =\n",
              "        document.querySelector('#' + key + ' button');\n",
              "      quickchartButtonEl.disabled = true;  // To prevent multiple clicks.\n",
              "      quickchartButtonEl.classList.add('colab-df-spinner');\n",
              "      try {\n",
              "        const charts = await google.colab.kernel.invokeFunction(\n",
              "            'suggestCharts', [key], {});\n",
              "      } catch (error) {\n",
              "        console.error('Error during call to suggestCharts:', error);\n",
              "      }\n",
              "      quickchartButtonEl.classList.remove('colab-df-spinner');\n",
              "      quickchartButtonEl.classList.add('colab-df-quickchart-complete');\n",
              "    }\n",
              "    (() => {\n",
              "      let quickchartButtonEl =\n",
              "        document.querySelector('#df-62a7a10f-7ac2-4345-bad3-0baa0f3d775a button');\n",
              "      quickchartButtonEl.style.display =\n",
              "        google.colab.kernel.accessAllowed ? 'block' : 'none';\n",
              "    })();\n",
              "  </script>\n",
              "</div>\n",
              "\n",
              "    </div>\n",
              "  </div>\n"
            ],
            "text/plain": [
              "      BASEL_cloud_cover  BASEL_humidity  BASEL_pressure  \\\n",
              "3649                  7            0.82          1.0084   \n",
              "3650                  7            0.92          1.0028   \n",
              "3651                  8            0.92          0.9979   \n",
              "3652                  7            0.93          0.9958   \n",
              "3653                  8            0.93          0.9965   \n",
              "\n",
              "      BASEL_global_radiation  BASEL_precipitation  BASEL_sunshine  \\\n",
              "3649                    0.28                 0.42             0.3   \n",
              "3650                    0.22                 1.68             0.2   \n",
              "3651                    0.07                 1.54             0.0   \n",
              "3652                    0.17                 0.57             0.1   \n",
              "3653                    0.08                 0.56             0.0   \n",
              "\n",
              "      BASEL_temp_mean  BASEL_temp_min  BASEL_temp_max  \n",
              "3649              3.2             1.0             4.8  \n",
              "3650              4.5             2.4            10.0  \n",
              "3651              8.5             7.5            11.5  \n",
              "3652              6.6             4.3             7.9  \n",
              "3653              2.9            -0.2             4.8  "
            ]
          },
          "execution_count": 48,
          "metadata": {},
          "output_type": "execute_result"
        }
      ],
      "source": [
        "my_df = my_df.iloc[:,2:11]\n",
        "my_df.tail()"
      ]
    },
    {
      "cell_type": "code",
      "execution_count": null,
      "metadata": {
        "colab": {
          "background_save": true
        },
        "id": "1ZCKBrRz3xRE"
      },
      "outputs": [],
      "source": [
        "X = my_df.drop(['BASEL_cloud_cover'], axis=1)\n",
        "y = my_df['BASEL_cloud_cover']"
      ]
    },
    {
      "cell_type": "code",
      "execution_count": null,
      "metadata": {
        "colab": {
          "background_save": true
        },
        "id": "AvjES9MX4MF1"
      },
      "outputs": [],
      "source": [
        "X = X.values\n",
        "y = y.values"
      ]
    },
    {
      "cell_type": "code",
      "execution_count": null,
      "metadata": {
        "colab": {
          "background_save": true
        },
        "id": "AkNGTq2e4M40"
      },
      "outputs": [],
      "source": [
        "from sklearn.model_selection import train_test_split"
      ]
    },
    {
      "cell_type": "code",
      "execution_count": null,
      "metadata": {
        "colab": {
          "background_save": true
        },
        "id": "dRv8t5BV4YQs"
      },
      "outputs": [],
      "source": [
        "X_train, X_test, y_train, y_test = train_test_split(X, y, test_size=0.2, random_state=41)"
      ]
    },
    {
      "cell_type": "code",
      "execution_count": null,
      "metadata": {
        "colab": {
          "background_save": true
        },
        "id": "eD_LwH6Q46-t"
      },
      "outputs": [],
      "source": [
        "X_train = torch.FloatTensor(X_train)\n",
        "X_test = torch.FloatTensor(X_test)"
      ]
    },
    {
      "cell_type": "code",
      "execution_count": null,
      "metadata": {
        "colab": {
          "background_save": true
        },
        "id": "Eo-sZan65Qgj"
      },
      "outputs": [],
      "source": [
        "y_train = torch.LongTensor(y_train)\n",
        "y_test = torch.LongTensor(y_test)"
      ]
    },
    {
      "cell_type": "code",
      "execution_count": null,
      "metadata": {
        "colab": {
          "background_save": true
        },
        "id": "DoEoy3SA5mAz"
      },
      "outputs": [],
      "source": [
        "criterion = nn.CrossEntropyLoss()\n",
        "optimizer = torch.optim.Adam(model.parameters(), lr=0.001)"
      ]
    },
    {
      "cell_type": "code",
      "execution_count": null,
      "metadata": {
        "colab": {
          "background_save": true,
          "base_uri": "https://localhost:8080/"
        },
        "id": "QMev0I0HAKpg",
        "outputId": "4638a04f-4d33-4098-d56d-3b202d67dc12"
      },
      "outputs": [
        {
          "name": "stdout",
          "output_type": "stream",
          "text": [
            "Elapsed Time: 0.02 hours, Loss: 1.1919187307357788\n",
            "Elapsed Time: 0.03 hours, Loss: 1.181801199913025\n",
            "Elapsed Time: 0.05 hours, Loss: 1.1763135194778442\n",
            "Elapsed Time: 0.07 hours, Loss: 1.1723792552947998\n",
            "Elapsed Time: 0.08 hours, Loss: 1.1688436269760132\n",
            "Elapsed Time: 0.10 hours, Loss: 1.1604845523834229\n",
            "Elapsed Time: 0.12 hours, Loss: 1.155880093574524\n",
            "Elapsed Time: 0.13 hours, Loss: 1.1553586721420288\n",
            "Elapsed Time: 0.15 hours, Loss: 1.1532492637634277\n",
            "Elapsed Time: 0.17 hours, Loss: 1.1514390707015991\n",
            "Elapsed Time: 0.18 hours, Loss: 1.150833249092102\n",
            "Elapsed Time: 0.20 hours, Loss: 1.1540063619613647\n",
            "Elapsed Time: 0.22 hours, Loss: 1.1526691913604736\n",
            "Elapsed Time: 0.23 hours, Loss: 1.1479007005691528\n",
            "Elapsed Time: 0.25 hours, Loss: 1.1459412574768066\n",
            "Elapsed Time: 0.27 hours, Loss: 1.1449161767959595\n",
            "Elapsed Time: 0.28 hours, Loss: 1.1441994905471802\n",
            "Elapsed Time: 0.30 hours, Loss: 1.1435654163360596\n",
            "Elapsed Time: 0.32 hours, Loss: 1.142716884613037\n",
            "Elapsed Time: 0.33 hours, Loss: 1.1439648866653442\n",
            "Elapsed Time: 0.35 hours, Loss: 1.142763376235962\n",
            "Elapsed Time: 0.37 hours, Loss: 1.1434075832366943\n",
            "Elapsed Time: 0.38 hours, Loss: 1.140688419342041\n",
            "Elapsed Time: 0.40 hours, Loss: 1.1406970024108887\n",
            "Elapsed Time: 0.42 hours, Loss: 1.1399098634719849\n",
            "Elapsed Time: 0.43 hours, Loss: 1.13962984085083\n",
            "Elapsed Time: 0.45 hours, Loss: 1.1396440267562866\n",
            "Elapsed Time: 0.47 hours, Loss: 1.1383553743362427\n",
            "Elapsed Time: 0.48 hours, Loss: 1.1377761363983154\n",
            "Elapsed Time: 0.50 hours, Loss: 1.137058973312378\n",
            "Elapsed Time: 0.52 hours, Loss: 1.1374938488006592\n",
            "Elapsed Time: 0.53 hours, Loss: 1.1368449926376343\n",
            "Elapsed Time: 0.55 hours, Loss: 1.1363071203231812\n",
            "Elapsed Time: 0.57 hours, Loss: 1.1399630308151245\n",
            "Elapsed Time: 0.58 hours, Loss: 1.1356594562530518\n",
            "Elapsed Time: 0.60 hours, Loss: 1.1359968185424805\n",
            "Elapsed Time: 0.62 hours, Loss: 1.135663628578186\n",
            "Elapsed Time: 0.63 hours, Loss: 1.1375614404678345\n",
            "Elapsed Time: 0.65 hours, Loss: 1.1364880800247192\n",
            "Elapsed Time: 0.67 hours, Loss: 1.1352910995483398\n",
            "Elapsed Time: 0.68 hours, Loss: 1.1342376470565796\n",
            "Elapsed Time: 0.70 hours, Loss: 1.1348198652267456\n",
            "Elapsed Time: 0.72 hours, Loss: 1.1353434324264526\n",
            "Elapsed Time: 0.73 hours, Loss: 1.1347755193710327\n",
            "Elapsed Time: 0.75 hours, Loss: 1.1333191394805908\n",
            "Elapsed Time: 0.77 hours, Loss: 1.1329832077026367\n",
            "Elapsed Time: 0.78 hours, Loss: 1.1346725225448608\n",
            "Elapsed Time: 0.80 hours, Loss: 1.1325104236602783\n",
            "Elapsed Time: 0.82 hours, Loss: 1.131869912147522\n",
            "Elapsed Time: 0.83 hours, Loss: 1.132586121559143\n",
            "Elapsed Time: 0.85 hours, Loss: 1.1336909532546997\n",
            "Elapsed Time: 0.87 hours, Loss: 1.1311298608779907\n",
            "Elapsed Time: 0.88 hours, Loss: 1.1324723958969116\n",
            "Elapsed Time: 0.90 hours, Loss: 1.130548119544983\n",
            "Elapsed Time: 0.92 hours, Loss: 1.1307029724121094\n",
            "Elapsed Time: 0.93 hours, Loss: 1.136199712753296\n",
            "Elapsed Time: 0.95 hours, Loss: 1.130863904953003\n",
            "Elapsed Time: 0.97 hours, Loss: 1.132906436920166\n",
            "Elapsed Time: 0.98 hours, Loss: 1.1325587034225464\n",
            "Elapsed Time: 0.98 hours, Loss: 1.132158875465393\n"
          ]
        }
      ],
      "source": [
        "import time\n",
        "\n",
        "total_hours = 1\n",
        "seconds_per_hour = 3600\n",
        "ten_minutes = 60\n",
        "\n",
        "losses = []\n",
        "\n",
        "start_time = time.time()\n",
        "last_logged_time = start_time\n",
        "end_time = start_time + total_hours * seconds_per_hour\n",
        "\n",
        "while time.time() < end_time:\n",
        "\n",
        "    y_pred = model.forward(X_train)\n",
        "\n",
        "    loss = criterion(y_pred, y_train)\n",
        "\n",
        "\n",
        "    if time.time() - last_logged_time >= ten_minutes:\n",
        "        elapsed_time = time.time() - start_time\n",
        "        print(f'Elapsed Time: {elapsed_time / 3600:.2f} hours, Loss: {loss.detach().numpy()}')\n",
        "        last_logged_time = time.time()\n",
        "\n",
        "    optimizer.zero_grad()\n",
        "    loss.backward()\n",
        "    optimizer.step()\n",
        "print(f'Elapsed Time: {elapsed_time / 3600:.2f} hours, Loss: {loss.detach().numpy()}')"
      ]
    },
    {
      "cell_type": "code",
      "execution_count": null,
      "metadata": {
        "id": "Dip1EQKV8e8C"
      },
      "outputs": [],
      "source": [
        "with torch.no_grad():\n",
        "  y_eval = model.forward(X_test)\n",
        "  loss = criterion(y_eval, y_test)\n"
      ]
    },
    {
      "cell_type": "code",
      "execution_count": null,
      "metadata": {
        "id": "WKGJ7x_NZN5e"
      },
      "outputs": [],
      "source": [
        "loss"
      ]
    },
    {
      "cell_type": "code",
      "execution_count": null,
      "metadata": {
        "id": "_Mto57j0tarL"
      },
      "outputs": [],
      "source": [
        "import time\n",
        "from functools import total_ordering\n",
        "correct = 0\n",
        "total_possible = 0\n",
        "with torch.no_grad():\n",
        "  for i, data in enumerate(X_test):\n",
        "    total_possible += 1\n",
        "    y_val = model.forward(data)\n",
        "\n",
        "    #print(f'{i+1}. {str(y_val):38} \\t {y_test[i]}')\n",
        "\n",
        "    if y_val.argmax().item() == y_test[i]:\n",
        "      correct += 1\n",
        "\n",
        "print(f'We got {correct}/{total_possible} correct')"
      ]
    },
    {
      "cell_type": "code",
      "execution_count": null,
      "metadata": {
        "id": "wVXO2mruuybv"
      },
      "outputs": [],
      "source": []
    }
  ],
  "metadata": {
    "accelerator": "GPU",
    "colab": {
      "gpuType": "T4",
      "provenance": [],
      "include_colab_link": true
    },
    "kernelspec": {
      "display_name": "Python 3",
      "name": "python3"
    },
    "language_info": {
      "name": "python"
    }
  },
  "nbformat": 4,
  "nbformat_minor": 0
}